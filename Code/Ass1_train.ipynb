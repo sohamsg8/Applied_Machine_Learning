{
 "cells": [
  {
   "cell_type": "markdown",
   "metadata": {},
   "source": [
    "# Applied ML Assignment 1"
   ]
  },
  {
   "cell_type": "markdown",
   "metadata": {},
   "source": [
    "Training Model"
   ]
  },
  {
   "cell_type": "markdown",
   "metadata": {},
   "source": [
    "Name- Soham Sengupta                      \n",
    "                   Roll No.- MDS202241"
   ]
  },
  {
   "cell_type": "code",
   "execution_count": 63,
   "metadata": {},
   "outputs": [],
   "source": [
    "import pandas as pd\n",
    "from sklearn.feature_extraction.text import TfidfVectorizer\n",
    "from sklearn.linear_model import LogisticRegression\n",
    "from sklearn.naive_bayes import MultinomialNB\n",
    "from sklearn.metrics import accuracy_score, classification_report\n",
    "from sklearn.pipeline import Pipeline\n",
    "import lightgbm as lgb\n",
    "import xgboost as xgb\n",
    "from tqdm.auto import tqdm\n",
    "from sklearn.model_selection import GridSearchCV\n",
    "import seaborn as sns\n",
    "import matplotlib.pyplot as plt\n",
    "from sklearn.metrics import roc_curve, roc_auc_score"
   ]
  },
  {
   "cell_type": "markdown",
   "metadata": {},
   "source": [
    "Functions to fit model"
   ]
  },
  {
   "cell_type": "code",
   "execution_count": 4,
   "metadata": {},
   "outputs": [],
   "source": [
    "def log_reg(train_data, y_train):\n",
    "    \n",
    "    model = Pipeline([\n",
    "        ('tfidf', TfidfVectorizer(stop_words='english')),\n",
    "        ('clf', LogisticRegression(class_weight='balanced',random_state=41))\n",
    "    ])\n",
    "    \n",
    "    model.fit(train_data, y_train)\n",
    "    return model"
   ]
  },
  {
   "cell_type": "code",
   "execution_count": 5,
   "metadata": {},
   "outputs": [],
   "source": [
    "def lgbm_clas(train_data, y_train):\n",
    "    \n",
    "    model = Pipeline([\n",
    "        ('tfidf', TfidfVectorizer(stop_words='english')),\n",
    "        ('clf', lgb.LGBMClassifier(class_weight='balanced',random_state=41,force_row_wise=True))\n",
    "    ])\n",
    "    \n",
    "    model.fit(train_data, y_train)\n",
    "    return model"
   ]
  },
  {
   "cell_type": "code",
   "execution_count": 7,
   "metadata": {},
   "outputs": [],
   "source": [
    "def xgbm_clas(train_data, y_train):\n",
    "    \n",
    "    model = Pipeline([\n",
    "        ('tfidf', TfidfVectorizer(stop_words='english')),\n",
    "        ('clf', xgb.XGBClassifier(class_weight='balanced',random_state=41))\n",
    "    ])\n",
    "    \n",
    "    model.fit(train_data, y_train)\n",
    "    return model"
   ]
  },
  {
   "cell_type": "code",
   "execution_count": 8,
   "metadata": {},
   "outputs": [],
   "source": [
    "def score_model(model, data, y_true):\n",
    "    y_pred = model.predict(data)\n",
    "    return accuracy_score(y_true, y_pred)"
   ]
  },
  {
   "cell_type": "code",
   "execution_count": 9,
   "metadata": {},
   "outputs": [],
   "source": [
    "def evaluate_model(y_true, y_pred):\n",
    "    print(classification_report(y_true, y_pred))"
   ]
  },
  {
   "cell_type": "code",
   "execution_count": 10,
   "metadata": {},
   "outputs": [],
   "source": [
    "def validate_model(model, train_data, y_train, validation_data, y_val):\n",
    "    print(\"Train score:\", score_model(model, train_data, y_train))\n",
    "    print(\"Validation score:\", score_model(model, validation_data, y_val))"
   ]
  },
  {
   "cell_type": "code",
   "execution_count": 11,
   "metadata": {},
   "outputs": [],
   "source": [
    "train_data = pd.read_csv('train.csv')\n",
    "validation_data = pd.read_csv('validation.csv')\n",
    "test_data = pd.read_csv('test.csv')"
   ]
  },
  {
   "cell_type": "code",
   "execution_count": 12,
   "metadata": {},
   "outputs": [
    {
     "data": {
      "text/html": [
       "<div>\n",
       "<style scoped>\n",
       "    .dataframe tbody tr th:only-of-type {\n",
       "        vertical-align: middle;\n",
       "    }\n",
       "\n",
       "    .dataframe tbody tr th {\n",
       "        vertical-align: top;\n",
       "    }\n",
       "\n",
       "    .dataframe thead th {\n",
       "        text-align: right;\n",
       "    }\n",
       "</style>\n",
       "<table border=\"1\" class=\"dataframe\">\n",
       "  <thead>\n",
       "    <tr style=\"text-align: right;\">\n",
       "      <th></th>\n",
       "      <th>text</th>\n",
       "      <th>spam</th>\n",
       "    </tr>\n",
       "  </thead>\n",
       "  <tbody>\n",
       "    <tr>\n",
       "      <th>0</th>\n",
       "      <td>subject avfs romanian software production expo...</td>\n",
       "      <td>1</td>\n",
       "    </tr>\n",
       "    <tr>\n",
       "      <th>1</th>\n",
       "      <td>subject arthur andersen model validation reque...</td>\n",
       "      <td>0</td>\n",
       "    </tr>\n",
       "    <tr>\n",
       "      <th>2</th>\n",
       "      <td>subject vacation shirley problem please coordi...</td>\n",
       "      <td>0</td>\n",
       "    </tr>\n",
       "    <tr>\n",
       "      <th>3</th>\n",
       "      <td>subject mortgage even worst credit zwzm detail...</td>\n",
       "      <td>1</td>\n",
       "    </tr>\n",
       "    <tr>\n",
       "      <th>4</th>\n",
       "      <td>subject 4 00 pm budget meeting dave continue f...</td>\n",
       "      <td>0</td>\n",
       "    </tr>\n",
       "    <tr>\n",
       "      <th>...</th>\n",
       "      <td>...</td>\n",
       "      <td>...</td>\n",
       "    </tr>\n",
       "    <tr>\n",
       "      <th>4863</th>\n",
       "      <td>subject accounting adjustment kim fyi checked ...</td>\n",
       "      <td>0</td>\n",
       "    </tr>\n",
       "    <tr>\n",
       "      <th>4864</th>\n",
       "      <td>subject pleased get note wish could help respe...</td>\n",
       "      <td>0</td>\n",
       "    </tr>\n",
       "    <tr>\n",
       "      <th>4865</th>\n",
       "      <td>subject mscf speaker series pierre philippe ti...</td>\n",
       "      <td>0</td>\n",
       "    </tr>\n",
       "    <tr>\n",
       "      <th>4866</th>\n",
       "      <td>subject sometimes always like idea chick horse...</td>\n",
       "      <td>1</td>\n",
       "    </tr>\n",
       "    <tr>\n",
       "      <th>4867</th>\n",
       "      <td>subject statistician position open feel free c...</td>\n",
       "      <td>0</td>\n",
       "    </tr>\n",
       "  </tbody>\n",
       "</table>\n",
       "<p>4868 rows × 2 columns</p>\n",
       "</div>"
      ],
      "text/plain": [
       "                                                   text  spam\n",
       "0     subject avfs romanian software production expo...     1\n",
       "1     subject arthur andersen model validation reque...     0\n",
       "2     subject vacation shirley problem please coordi...     0\n",
       "3     subject mortgage even worst credit zwzm detail...     1\n",
       "4     subject 4 00 pm budget meeting dave continue f...     0\n",
       "...                                                 ...   ...\n",
       "4863  subject accounting adjustment kim fyi checked ...     0\n",
       "4864  subject pleased get note wish could help respe...     0\n",
       "4865  subject mscf speaker series pierre philippe ti...     0\n",
       "4866  subject sometimes always like idea chick horse...     1\n",
       "4867  subject statistician position open feel free c...     0\n",
       "\n",
       "[4868 rows x 2 columns]"
      ]
     },
     "execution_count": 12,
     "metadata": {},
     "output_type": "execute_result"
    }
   ],
   "source": [
    "train_data"
   ]
  },
  {
   "cell_type": "code",
   "execution_count": 13,
   "metadata": {},
   "outputs": [],
   "source": [
    "X_train = train_data['text']\n",
    "y_train = train_data['spam']\n",
    "X_val = validation_data['text']\n",
    "y_val = validation_data['spam']\n",
    "X_test = test_data['text']\n",
    "y_test = test_data['spam']"
   ]
  },
  {
   "cell_type": "markdown",
   "metadata": {},
   "source": [
    "For logistic regression"
   ]
  },
  {
   "cell_type": "code",
   "execution_count": 14,
   "metadata": {},
   "outputs": [],
   "source": [
    "log=log_reg(X_train, y_train)"
   ]
  },
  {
   "cell_type": "code",
   "execution_count": 16,
   "metadata": {},
   "outputs": [
    {
     "name": "stdout",
     "output_type": "stream",
     "text": [
      "Train score: 0.9942481511914544\n",
      "Validation score: 0.9837209302325581\n"
     ]
    }
   ],
   "source": [
    "validate_model(log, X_train, y_train, X_val, y_val)"
   ]
  },
  {
   "cell_type": "code",
   "execution_count": 17,
   "metadata": {},
   "outputs": [],
   "source": [
    "y_pred_val = log.predict(X_val)"
   ]
  },
  {
   "cell_type": "code",
   "execution_count": 18,
   "metadata": {},
   "outputs": [
    {
     "name": "stdout",
     "output_type": "stream",
     "text": [
      "              precision    recall  f1-score   support\n",
      "\n",
      "           0       1.00      0.98      0.99       330\n",
      "           1       0.93      1.00      0.97       100\n",
      "\n",
      "    accuracy                           0.98       430\n",
      "   macro avg       0.97      0.99      0.98       430\n",
      "weighted avg       0.98      0.98      0.98       430\n",
      "\n"
     ]
    }
   ],
   "source": [
    "evaluate_model(y_val, y_pred_val)"
   ]
  },
  {
   "cell_type": "markdown",
   "metadata": {},
   "source": [
    "We can see logistic regression using balanced class yields 98% accuracy"
   ]
  },
  {
   "cell_type": "markdown",
   "metadata": {},
   "source": [
    "For Light Gradient Boosting Machine"
   ]
  },
  {
   "cell_type": "code",
   "execution_count": 19,
   "metadata": {},
   "outputs": [
    {
     "name": "stdout",
     "output_type": "stream",
     "text": [
      "[LightGBM] [Info] Number of positive: 1174, number of negative: 3694\n",
      "[LightGBM] [Info] Total Bins 108354\n",
      "[LightGBM] [Info] Number of data points in the train set: 4868, number of used features: 3236\n",
      "[LightGBM] [Info] [binary:BoostFromScore]: pavg=0.500000 -> initscore=0.000000\n",
      "[LightGBM] [Info] Start training from score 0.000000\n"
     ]
    }
   ],
   "source": [
    "lg=lgbm_clas(X_train, y_train)"
   ]
  },
  {
   "cell_type": "code",
   "execution_count": 23,
   "metadata": {},
   "outputs": [
    {
     "name": "stdout",
     "output_type": "stream",
     "text": [
      "Train score: 0.9997945768282662\n",
      "Validation score: 0.9790697674418605\n"
     ]
    }
   ],
   "source": [
    "validate_model(lg, X_train, y_train, X_val, y_val)"
   ]
  },
  {
   "cell_type": "code",
   "execution_count": 24,
   "metadata": {},
   "outputs": [
    {
     "name": "stdout",
     "output_type": "stream",
     "text": [
      "              precision    recall  f1-score   support\n",
      "\n",
      "           0       1.00      0.97      0.99       330\n",
      "           1       0.92      1.00      0.96       100\n",
      "\n",
      "    accuracy                           0.98       430\n",
      "   macro avg       0.96      0.99      0.97       430\n",
      "weighted avg       0.98      0.98      0.98       430\n",
      "\n"
     ]
    }
   ],
   "source": [
    "y_pred_val = lg.predict(X_val)\n",
    "evaluate_model(y_val, y_pred_val)"
   ]
  },
  {
   "cell_type": "markdown",
   "metadata": {},
   "source": [
    "Using Validation class, lgbm is also yielding 98% accuracy."
   ]
  },
  {
   "cell_type": "markdown",
   "metadata": {},
   "source": [
    "For Xg-boost"
   ]
  },
  {
   "cell_type": "code",
   "execution_count": 22,
   "metadata": {},
   "outputs": [
    {
     "name": "stdout",
     "output_type": "stream",
     "text": [
      "[16:32:02] WARNING: C:/Users/administrator/workspace/xgboost-win64_release_1.6.0/src/learner.cc:627: \n",
      "Parameters: { \"class_weight\" } might not be used.\n",
      "\n",
      "  This could be a false alarm, with some parameters getting used by language bindings but\n",
      "  then being mistakenly passed down to XGBoost core, or some parameter actually being used\n",
      "  but getting flagged wrongly here. Please open an issue if you find any such cases.\n",
      "\n",
      "\n"
     ]
    }
   ],
   "source": [
    "xg=xgbm_clas(X_train, y_train)"
   ]
  },
  {
   "cell_type": "code",
   "execution_count": 25,
   "metadata": {},
   "outputs": [
    {
     "name": "stdout",
     "output_type": "stream",
     "text": [
      "Train score: 0.9995891536565324\n",
      "Validation score: 0.9813953488372092\n"
     ]
    }
   ],
   "source": [
    "validate_model(xg, X_train, y_train, X_val, y_val)"
   ]
  },
  {
   "cell_type": "code",
   "execution_count": 26,
   "metadata": {},
   "outputs": [
    {
     "name": "stdout",
     "output_type": "stream",
     "text": [
      "              precision    recall  f1-score   support\n",
      "\n",
      "           0       1.00      0.98      0.99       330\n",
      "           1       0.93      0.99      0.96       100\n",
      "\n",
      "    accuracy                           0.98       430\n",
      "   macro avg       0.97      0.98      0.97       430\n",
      "weighted avg       0.98      0.98      0.98       430\n",
      "\n"
     ]
    }
   ],
   "source": [
    "y_pred_val = xg.predict(X_val)\n",
    "evaluate_model(y_val, y_pred_val)"
   ]
  },
  {
   "cell_type": "markdown",
   "metadata": {},
   "source": [
    "Xg-boost also yielding 98% accuracy"
   ]
  },
  {
   "cell_type": "markdown",
   "metadata": {},
   "source": [
    "Without fine tuning all models are neck to neck"
   ]
  },
  {
   "cell_type": "markdown",
   "metadata": {},
   "source": [
    "Grid-search"
   ]
  },
  {
   "cell_type": "code",
   "execution_count": 27,
   "metadata": {},
   "outputs": [],
   "source": [
    "# Combine the training and validation sets for final fine-tuning\n",
    "X_train_val = pd.concat([X_train, X_val])\n",
    "y_train_val = pd.concat([y_train, y_val])"
   ]
  },
  {
   "cell_type": "code",
   "execution_count": 29,
   "metadata": {},
   "outputs": [],
   "source": [
    "# Define the base models\n",
    "models_gcv = {\n",
    "    'logistic_regression': Pipeline([\n",
    "        ('tfidf', TfidfVectorizer(stop_words='english')),\n",
    "        ('clf', LogisticRegression(random_state=41))\n",
    "    ]),\n",
    "    'lightgbm': Pipeline([\n",
    "        ('tfidf', TfidfVectorizer(stop_words='english')),\n",
    "        ('clf', lgb.LGBMClassifier(random_state=41, force_row_wise=True))\n",
    "    ]),\n",
    "    'xgbm': Pipeline([\n",
    "        ('tfidf', TfidfVectorizer(stop_words='english')),\n",
    "        ('clf', xgb.XGBClassifier(class_weight='balanced',random_state=41))\n",
    "    ])\n",
    "}\n",
    "\n",
    "# Define the parameter grids for each model\n",
    "param_grids = {\n",
    "    'logistic_regression': {\n",
    "        'tfidf__max_df': [0.5, 0.75],\n",
    "        'tfidf__ngram_range': [(1, 1), (1, 2)],\n",
    "        'clf__C': [0.1, 1, 10]\n",
    "    },\n",
    "    'lightgbm': {\n",
    "        'tfidf__max_df': [0.5, 0.75],\n",
    "        'tfidf__ngram_range': [(1, 1), (1, 2)],\n",
    "        'clf__learning_rate': [0.01, 0.1, 0.5],\n",
    "        'clf__num_leaves': [15,31,63],\n",
    "        'clf__max_depth': [6, 8]\n",
    "           \n",
    "    },\n",
    "    'xgbm': {\n",
    "        'tfidf__max_df': [0.5, 0.75],\n",
    "        'tfidf__ngram_range': [(1, 1), (1, 2)],\n",
    "        'clf__learning_rate': [0.01, 0.1, 0.5],\n",
    "        'clf__num_leaves': [15,31,63],\n",
    "        'clf__max_depth': [6, 8]\n",
    "    }\n",
    "}"
   ]
  },
  {
   "cell_type": "code",
   "execution_count": 30,
   "metadata": {},
   "outputs": [],
   "source": [
    "model_name=[['logistic_regression', 'lightgbm','xgbm']]"
   ]
  },
  {
   "cell_type": "markdown",
   "metadata": {},
   "source": [
    "Fine tuning.."
   ]
  },
  {
   "cell_type": "code",
   "execution_count": 33,
   "metadata": {},
   "outputs": [
    {
     "data": {
      "application/vnd.jupyter.widget-view+json": {
       "model_id": "e0d308d06f2d4a4999a930fad8146766",
       "version_major": 2,
       "version_minor": 0
      },
      "text/plain": [
       "Grid Searching Models:   0%|          | 0/3 [00:00<?, ?it/s]"
      ]
     },
     "metadata": {},
     "output_type": "display_data"
    },
    {
     "name": "stdout",
     "output_type": "stream",
     "text": [
      "Starting grid search for logistic_regression...\n",
      "Fitting 3 folds for each of 12 candidates, totalling 36 fits\n",
      "Best parameters for logistic_regression:\n",
      "{'clf__C': 10, 'tfidf__max_df': 0.5, 'tfidf__ngram_range': (1, 1)}\n",
      "Starting grid search for lightgbm...\n",
      "Fitting 3 folds for each of 72 candidates, totalling 216 fits\n",
      "[LightGBM] [Warning] Accuracy may be bad since you didn't explicitly set num_leaves OR 2^max_depth > num_leaves. (num_leaves=31).\n",
      "[LightGBM] [Warning] Accuracy may be bad since you didn't explicitly set num_leaves OR 2^max_depth > num_leaves. (num_leaves=31).\n",
      "[LightGBM] [Info] Number of positive: 1274, number of negative: 4024\n",
      "[LightGBM] [Info] Total Bins 116707\n",
      "[LightGBM] [Info] Number of data points in the train set: 5298, number of used features: 3376\n",
      "[LightGBM] [Info] [binary:BoostFromScore]: pavg=0.240468 -> initscore=-1.150115\n",
      "[LightGBM] [Info] Start training from score -1.150115\n",
      "[LightGBM] [Warning] No further splits with positive gain, best gain: -inf\n",
      "[LightGBM] [Warning] No further splits with positive gain, best gain: -inf\n",
      "[LightGBM] [Warning] No further splits with positive gain, best gain: -inf\n",
      "[LightGBM] [Warning] No further splits with positive gain, best gain: -inf\n",
      "[LightGBM] [Warning] No further splits with positive gain, best gain: -inf\n",
      "[LightGBM] [Warning] No further splits with positive gain, best gain: -inf\n",
      "[LightGBM] [Warning] No further splits with positive gain, best gain: -inf\n",
      "[LightGBM] [Warning] No further splits with positive gain, best gain: -inf\n",
      "[LightGBM] [Warning] No further splits with positive gain, best gain: -inf\n",
      "[LightGBM] [Warning] No further splits with positive gain, best gain: -inf\n",
      "[LightGBM] [Warning] No further splits with positive gain, best gain: -inf\n",
      "[LightGBM] [Warning] No further splits with positive gain, best gain: -inf\n",
      "[LightGBM] [Warning] No further splits with positive gain, best gain: -inf\n",
      "[LightGBM] [Warning] No further splits with positive gain, best gain: -inf\n",
      "[LightGBM] [Warning] No further splits with positive gain, best gain: -inf\n",
      "[LightGBM] [Warning] No further splits with positive gain, best gain: -inf\n",
      "[LightGBM] [Warning] No further splits with positive gain, best gain: -inf\n",
      "[LightGBM] [Warning] No further splits with positive gain, best gain: -inf\n",
      "[LightGBM] [Warning] No further splits with positive gain, best gain: -inf\n",
      "[LightGBM] [Warning] No further splits with positive gain, best gain: -inf\n",
      "[LightGBM] [Warning] No further splits with positive gain, best gain: -inf\n",
      "[LightGBM] [Warning] No further splits with positive gain, best gain: -inf\n",
      "[LightGBM] [Warning] No further splits with positive gain, best gain: -inf\n",
      "[LightGBM] [Warning] No further splits with positive gain, best gain: -inf\n",
      "[LightGBM] [Warning] No further splits with positive gain, best gain: -inf\n",
      "[LightGBM] [Warning] No further splits with positive gain, best gain: -inf\n",
      "[LightGBM] [Warning] No further splits with positive gain, best gain: -inf\n",
      "[LightGBM] [Warning] No further splits with positive gain, best gain: -inf\n",
      "[LightGBM] [Warning] No further splits with positive gain, best gain: -inf\n",
      "[LightGBM] [Warning] No further splits with positive gain, best gain: -inf\n",
      "[LightGBM] [Warning] No further splits with positive gain, best gain: -inf\n",
      "[LightGBM] [Warning] No further splits with positive gain, best gain: -inf\n",
      "[LightGBM] [Warning] No further splits with positive gain, best gain: -inf\n",
      "[LightGBM] [Warning] No further splits with positive gain, best gain: -inf\n",
      "[LightGBM] [Warning] No further splits with positive gain, best gain: -inf\n",
      "[LightGBM] [Warning] No further splits with positive gain, best gain: -inf\n",
      "[LightGBM] [Warning] No further splits with positive gain, best gain: -inf\n",
      "[LightGBM] [Warning] No further splits with positive gain, best gain: -inf\n",
      "[LightGBM] [Warning] No further splits with positive gain, best gain: -inf\n",
      "[LightGBM] [Warning] No further splits with positive gain, best gain: -inf\n",
      "[LightGBM] [Warning] No further splits with positive gain, best gain: -inf\n",
      "[LightGBM] [Warning] No further splits with positive gain, best gain: -inf\n",
      "[LightGBM] [Warning] No further splits with positive gain, best gain: -inf\n",
      "[LightGBM] [Warning] No further splits with positive gain, best gain: -inf\n",
      "[LightGBM] [Warning] No further splits with positive gain, best gain: -inf\n",
      "[LightGBM] [Warning] No further splits with positive gain, best gain: -inf\n",
      "[LightGBM] [Warning] No further splits with positive gain, best gain: -inf\n",
      "[LightGBM] [Warning] No further splits with positive gain, best gain: -inf\n",
      "[LightGBM] [Warning] No further splits with positive gain, best gain: -inf\n",
      "[LightGBM] [Warning] No further splits with positive gain, best gain: -inf\n",
      "[LightGBM] [Warning] No further splits with positive gain, best gain: -inf\n",
      "[LightGBM] [Warning] No further splits with positive gain, best gain: -inf\n",
      "[LightGBM] [Warning] No further splits with positive gain, best gain: -inf\n",
      "[LightGBM] [Warning] No further splits with positive gain, best gain: -inf\n",
      "[LightGBM] [Warning] No further splits with positive gain, best gain: -inf\n",
      "[LightGBM] [Warning] No further splits with positive gain, best gain: -inf\n",
      "[LightGBM] [Warning] No further splits with positive gain, best gain: -inf\n",
      "[LightGBM] [Warning] No further splits with positive gain, best gain: -inf\n",
      "[LightGBM] [Warning] No further splits with positive gain, best gain: -inf\n",
      "[LightGBM] [Warning] No further splits with positive gain, best gain: -inf\n",
      "[LightGBM] [Warning] No further splits with positive gain, best gain: -inf\n",
      "[LightGBM] [Warning] No further splits with positive gain, best gain: -inf\n",
      "[LightGBM] [Warning] No further splits with positive gain, best gain: -inf\n",
      "[LightGBM] [Warning] No further splits with positive gain, best gain: -inf\n",
      "[LightGBM] [Warning] No further splits with positive gain, best gain: -inf\n",
      "[LightGBM] [Warning] No further splits with positive gain, best gain: -inf\n",
      "[LightGBM] [Warning] No further splits with positive gain, best gain: -inf\n",
      "[LightGBM] [Warning] No further splits with positive gain, best gain: -inf\n",
      "[LightGBM] [Warning] No further splits with positive gain, best gain: -inf\n",
      "[LightGBM] [Warning] No further splits with positive gain, best gain: -inf\n",
      "[LightGBM] [Warning] No further splits with positive gain, best gain: -inf\n",
      "[LightGBM] [Warning] No further splits with positive gain, best gain: -inf\n",
      "[LightGBM] [Warning] No further splits with positive gain, best gain: -inf\n",
      "[LightGBM] [Warning] No further splits with positive gain, best gain: -inf\n",
      "[LightGBM] [Warning] No further splits with positive gain, best gain: -inf\n",
      "[LightGBM] [Warning] No further splits with positive gain, best gain: -inf\n",
      "[LightGBM] [Warning] No further splits with positive gain, best gain: -inf\n",
      "[LightGBM] [Warning] No further splits with positive gain, best gain: -inf\n",
      "[LightGBM] [Warning] No further splits with positive gain, best gain: -inf\n",
      "[LightGBM] [Warning] No further splits with positive gain, best gain: -inf\n",
      "[LightGBM] [Warning] No further splits with positive gain, best gain: -inf\n",
      "[LightGBM] [Warning] No further splits with positive gain, best gain: -inf\n",
      "[LightGBM] [Warning] No further splits with positive gain, best gain: -inf\n",
      "[LightGBM] [Warning] No further splits with positive gain, best gain: -inf\n",
      "[LightGBM] [Warning] No further splits with positive gain, best gain: -inf\n",
      "[LightGBM] [Warning] No further splits with positive gain, best gain: -inf\n",
      "[LightGBM] [Warning] No further splits with positive gain, best gain: -inf\n",
      "[LightGBM] [Warning] No further splits with positive gain, best gain: -inf\n",
      "[LightGBM] [Warning] No further splits with positive gain, best gain: -inf\n",
      "[LightGBM] [Warning] No further splits with positive gain, best gain: -inf\n",
      "[LightGBM] [Warning] No further splits with positive gain, best gain: -inf\n",
      "[LightGBM] [Warning] No further splits with positive gain, best gain: -inf\n",
      "[LightGBM] [Warning] No further splits with positive gain, best gain: -inf\n",
      "[LightGBM] [Warning] No further splits with positive gain, best gain: -inf\n",
      "[LightGBM] [Warning] No further splits with positive gain, best gain: -inf\n",
      "[LightGBM] [Warning] No further splits with positive gain, best gain: -inf\n",
      "[LightGBM] [Warning] No further splits with positive gain, best gain: -inf\n",
      "[LightGBM] [Warning] No further splits with positive gain, best gain: -inf\n",
      "[LightGBM] [Warning] No further splits with positive gain, best gain: -inf\n",
      "Best parameters for lightgbm:\n",
      "{'clf__learning_rate': 0.5, 'clf__max_depth': 6, 'clf__num_leaves': 31, 'tfidf__max_df': 0.5, 'tfidf__ngram_range': (1, 1)}\n",
      "Starting grid search for xgbm...\n",
      "Fitting 3 folds for each of 72 candidates, totalling 216 fits\n",
      "[17:07:00] WARNING: C:/Users/administrator/workspace/xgboost-win64_release_1.6.0/src/learner.cc:627: \n",
      "Parameters: { \"class_weight\", \"num_leaves\" } might not be used.\n",
      "\n",
      "  This could be a false alarm, with some parameters getting used by language bindings but\n",
      "  then being mistakenly passed down to XGBoost core, or some parameter actually being used\n",
      "  but getting flagged wrongly here. Please open an issue if you find any such cases.\n",
      "\n",
      "\n",
      "Best parameters for xgbm:\n",
      "{'clf__learning_rate': 0.1, 'clf__max_depth': 8, 'clf__num_leaves': 15, 'tfidf__max_df': 0.5, 'tfidf__ngram_range': (1, 1)}\n"
     ]
    }
   ],
   "source": [
    "best_models = {}\n",
    "for model_name in tqdm(models_gcv.keys(), desc=\"Grid Searching Models\"):\n",
    "    print(f\"Starting grid search for {model_name}...\")\n",
    "    grid_search = GridSearchCV(models_gcv[model_name], param_grids[model_name], cv=3, n_jobs=-1, verbose=1)\n",
    "    grid_search.fit(X_train_val,y_train_val )\n",
    "    \n",
    "    print(f\"Best parameters for {model_name}:\")\n",
    "    print(grid_search.best_params_)\n",
    "    \n",
    "    best_models[model_name] = grid_search.best_estimator_"
   ]
  },
  {
   "cell_type": "code",
   "execution_count": 34,
   "metadata": {},
   "outputs": [
    {
     "data": {
      "text/plain": [
       "{'logistic_regression': Pipeline(steps=[('tfidf', TfidfVectorizer(max_df=0.5, stop_words='english')),\n",
       "                 ('clf', LogisticRegression(C=10, random_state=41))]),\n",
       " 'lightgbm': Pipeline(steps=[('tfidf', TfidfVectorizer(max_df=0.5, stop_words='english')),\n",
       "                 ('clf',\n",
       "                  LGBMClassifier(force_row_wise=True, learning_rate=0.5,\n",
       "                                 max_depth=6, random_state=41))]),\n",
       " 'xgbm': Pipeline(steps=[('tfidf', TfidfVectorizer(max_df=0.5, stop_words='english')),\n",
       "                 ('clf',\n",
       "                  XGBClassifier(base_score=0.5, booster='gbtree', callbacks=None,\n",
       "                                class_weight='balanced', colsample_bylevel=1,\n",
       "                                colsample_bynode=1, colsample_bytree=1,\n",
       "                                early_stopping_rounds=None,\n",
       "                                enable_categorical=False, eval_metric=None,\n",
       "                                gamma=0, gpu_id=-1, grow_policy='depthwise',\n",
       "                                importance_type=None, interaction_constraints='',\n",
       "                                learning_rate=0.1, max_bin=256,\n",
       "                                max_cat_to_onehot=4, max_delta_step=0,\n",
       "                                max_depth=8, max_leaves=0, min_child_weight=1,\n",
       "                                missing=nan, monotone_constraints='()',\n",
       "                                n_estimators=100, n_jobs=0, num_leaves=15,\n",
       "                                num_parallel_tree=1, predictor='auto',\n",
       "                                random_state=41, ...))])}"
      ]
     },
     "execution_count": 34,
     "metadata": {},
     "output_type": "execute_result"
    }
   ],
   "source": [
    "best_models"
   ]
  },
  {
   "cell_type": "code",
   "execution_count": 35,
   "metadata": {},
   "outputs": [
    {
     "data": {
      "application/vnd.jupyter.widget-view+json": {
       "model_id": "5adb6d739b6047329e45c09c04c4b709",
       "version_major": 2,
       "version_minor": 0
      },
      "text/plain": [
       "  0%|          | 0/3 [00:00<?, ?it/s]"
      ]
     },
     "metadata": {},
     "output_type": "display_data"
    },
    {
     "name": "stdout",
     "output_type": "stream",
     "text": [
      "logistic_regression Test Accuracy: 0.9976744186046511\n",
      "[LightGBM] [Warning] Accuracy may be bad since you didn't explicitly set num_leaves OR 2^max_depth > num_leaves. (num_leaves=31).\n",
      "lightgbm Test Accuracy: 0.9953488372093023\n",
      "xgbm Test Accuracy: 0.986046511627907\n"
     ]
    }
   ],
   "source": [
    "test_accuracies = {}\n",
    "\n",
    "for model_name, model in tqdm(best_models.items()):\n",
    "    y_pred = model.predict(X_test)\n",
    "    \n",
    "    accuracy = accuracy_score(y_test, y_pred)\n",
    "    test_accuracies[model_name] = accuracy\n",
    "    \n",
    "    print(f\"{model_name} Test Accuracy: {accuracy}\")"
   ]
  },
  {
   "cell_type": "markdown",
   "metadata": {},
   "source": [
    "Hence on Test data we can see that logistic Regression slightly out performs the other two after grid search , though all giving accuracy very good, also before grid search it was good enough , so grid search and fine tuning is optional."
   ]
  },
  {
   "cell_type": "code",
   "execution_count": null,
   "metadata": {},
   "outputs": [],
   "source": []
  },
  {
   "cell_type": "code",
   "execution_count": 36,
   "metadata": {},
   "outputs": [],
   "source": [
    "model= Pipeline(steps=[('tfidf', TfidfVectorizer(max_df=0.5, stop_words='english')),\n",
    "                 ('clf', LogisticRegression(C=10, random_state=41))])"
   ]
  },
  {
   "cell_type": "code",
   "execution_count": 39,
   "metadata": {},
   "outputs": [
    {
     "data": {
      "text/html": [
       "<style>#sk-container-id-2 {color: black;background-color: white;}#sk-container-id-2 pre{padding: 0;}#sk-container-id-2 div.sk-toggleable {background-color: white;}#sk-container-id-2 label.sk-toggleable__label {cursor: pointer;display: block;width: 100%;margin-bottom: 0;padding: 0.3em;box-sizing: border-box;text-align: center;}#sk-container-id-2 label.sk-toggleable__label-arrow:before {content: \"▸\";float: left;margin-right: 0.25em;color: #696969;}#sk-container-id-2 label.sk-toggleable__label-arrow:hover:before {color: black;}#sk-container-id-2 div.sk-estimator:hover label.sk-toggleable__label-arrow:before {color: black;}#sk-container-id-2 div.sk-toggleable__content {max-height: 0;max-width: 0;overflow: hidden;text-align: left;background-color: #f0f8ff;}#sk-container-id-2 div.sk-toggleable__content pre {margin: 0.2em;color: black;border-radius: 0.25em;background-color: #f0f8ff;}#sk-container-id-2 input.sk-toggleable__control:checked~div.sk-toggleable__content {max-height: 200px;max-width: 100%;overflow: auto;}#sk-container-id-2 input.sk-toggleable__control:checked~label.sk-toggleable__label-arrow:before {content: \"▾\";}#sk-container-id-2 div.sk-estimator input.sk-toggleable__control:checked~label.sk-toggleable__label {background-color: #d4ebff;}#sk-container-id-2 div.sk-label input.sk-toggleable__control:checked~label.sk-toggleable__label {background-color: #d4ebff;}#sk-container-id-2 input.sk-hidden--visually {border: 0;clip: rect(1px 1px 1px 1px);clip: rect(1px, 1px, 1px, 1px);height: 1px;margin: -1px;overflow: hidden;padding: 0;position: absolute;width: 1px;}#sk-container-id-2 div.sk-estimator {font-family: monospace;background-color: #f0f8ff;border: 1px dotted black;border-radius: 0.25em;box-sizing: border-box;margin-bottom: 0.5em;}#sk-container-id-2 div.sk-estimator:hover {background-color: #d4ebff;}#sk-container-id-2 div.sk-parallel-item::after {content: \"\";width: 100%;border-bottom: 1px solid gray;flex-grow: 1;}#sk-container-id-2 div.sk-label:hover label.sk-toggleable__label {background-color: #d4ebff;}#sk-container-id-2 div.sk-serial::before {content: \"\";position: absolute;border-left: 1px solid gray;box-sizing: border-box;top: 0;bottom: 0;left: 50%;z-index: 0;}#sk-container-id-2 div.sk-serial {display: flex;flex-direction: column;align-items: center;background-color: white;padding-right: 0.2em;padding-left: 0.2em;position: relative;}#sk-container-id-2 div.sk-item {position: relative;z-index: 1;}#sk-container-id-2 div.sk-parallel {display: flex;align-items: stretch;justify-content: center;background-color: white;position: relative;}#sk-container-id-2 div.sk-item::before, #sk-container-id-2 div.sk-parallel-item::before {content: \"\";position: absolute;border-left: 1px solid gray;box-sizing: border-box;top: 0;bottom: 0;left: 50%;z-index: -1;}#sk-container-id-2 div.sk-parallel-item {display: flex;flex-direction: column;z-index: 1;position: relative;background-color: white;}#sk-container-id-2 div.sk-parallel-item:first-child::after {align-self: flex-end;width: 50%;}#sk-container-id-2 div.sk-parallel-item:last-child::after {align-self: flex-start;width: 50%;}#sk-container-id-2 div.sk-parallel-item:only-child::after {width: 0;}#sk-container-id-2 div.sk-dashed-wrapped {border: 1px dashed gray;margin: 0 0.4em 0.5em 0.4em;box-sizing: border-box;padding-bottom: 0.4em;background-color: white;}#sk-container-id-2 div.sk-label label {font-family: monospace;font-weight: bold;display: inline-block;line-height: 1.2em;}#sk-container-id-2 div.sk-label-container {text-align: center;}#sk-container-id-2 div.sk-container {/* jupyter's `normalize.less` sets `[hidden] { display: none; }` but bootstrap.min.css set `[hidden] { display: none !important; }` so we also need the `!important` here to be able to override the default hidden behavior on the sphinx rendered scikit-learn.org. See: https://github.com/scikit-learn/scikit-learn/issues/21755 */display: inline-block !important;position: relative;}#sk-container-id-2 div.sk-text-repr-fallback {display: none;}</style><div id=\"sk-container-id-2\" class=\"sk-top-container\"><div class=\"sk-text-repr-fallback\"><pre>Pipeline(steps=[(&#x27;tfidf&#x27;, TfidfVectorizer(max_df=0.5, stop_words=&#x27;english&#x27;)),\n",
       "                (&#x27;clf&#x27;, LogisticRegression(C=10, random_state=41))])</pre><b>In a Jupyter environment, please rerun this cell to show the HTML representation or trust the notebook. <br />On GitHub, the HTML representation is unable to render, please try loading this page with nbviewer.org.</b></div><div class=\"sk-container\" hidden><div class=\"sk-item sk-dashed-wrapped\"><div class=\"sk-label-container\"><div class=\"sk-label sk-toggleable\"><input class=\"sk-toggleable__control sk-hidden--visually\" id=\"sk-estimator-id-4\" type=\"checkbox\" ><label for=\"sk-estimator-id-4\" class=\"sk-toggleable__label sk-toggleable__label-arrow\">Pipeline</label><div class=\"sk-toggleable__content\"><pre>Pipeline(steps=[(&#x27;tfidf&#x27;, TfidfVectorizer(max_df=0.5, stop_words=&#x27;english&#x27;)),\n",
       "                (&#x27;clf&#x27;, LogisticRegression(C=10, random_state=41))])</pre></div></div></div><div class=\"sk-serial\"><div class=\"sk-item\"><div class=\"sk-estimator sk-toggleable\"><input class=\"sk-toggleable__control sk-hidden--visually\" id=\"sk-estimator-id-5\" type=\"checkbox\" ><label for=\"sk-estimator-id-5\" class=\"sk-toggleable__label sk-toggleable__label-arrow\">TfidfVectorizer</label><div class=\"sk-toggleable__content\"><pre>TfidfVectorizer(max_df=0.5, stop_words=&#x27;english&#x27;)</pre></div></div></div><div class=\"sk-item\"><div class=\"sk-estimator sk-toggleable\"><input class=\"sk-toggleable__control sk-hidden--visually\" id=\"sk-estimator-id-6\" type=\"checkbox\" ><label for=\"sk-estimator-id-6\" class=\"sk-toggleable__label sk-toggleable__label-arrow\">LogisticRegression</label><div class=\"sk-toggleable__content\"><pre>LogisticRegression(C=10, random_state=41)</pre></div></div></div></div></div></div></div>"
      ],
      "text/plain": [
       "Pipeline(steps=[('tfidf', TfidfVectorizer(max_df=0.5, stop_words='english')),\n",
       "                ('clf', LogisticRegression(C=10, random_state=41))])"
      ]
     },
     "execution_count": 39,
     "metadata": {},
     "output_type": "execute_result"
    }
   ],
   "source": [
    "model.fit(X_train_val, y_train_val)"
   ]
  },
  {
   "cell_type": "code",
   "execution_count": 40,
   "metadata": {},
   "outputs": [],
   "source": [
    "y_pred = model.predict(X_test)"
   ]
  },
  {
   "cell_type": "code",
   "execution_count": 45,
   "metadata": {},
   "outputs": [
    {
     "data": {
      "text/plain": [
       "Text(113.9222222222222, 0.5, 'Actual label')"
      ]
     },
     "execution_count": 45,
     "metadata": {},
     "output_type": "execute_result"
    },
    {
     "data": {
      "image/png": "[encoded data removed]",
      "text/plain": [
       "<Figure size 640x480 with 1 Axes>"
      ]
     },
     "metadata": {},
     "output_type": "display_data"
    }
   ],
   "source": [
    "from sklearn.metrics import confusion_matrix\n",
    "mat = confusion_matrix(y_test, y_pred)\n",
    "labels = ['Non-Spam', 'Spam']\n",
    " \n",
    "sns.heatmap(mat, square=True, annot=True, fmt='d', cbar=False, cmap='Blues',\n",
    "            xticklabels=labels, yticklabels=labels)\n",
    " \n",
    "plt.xlabel('Predicted label')\n",
    "plt.ylabel('Actual label')"
   ]
  },
  {
   "cell_type": "code",
   "execution_count": 46,
   "metadata": {},
   "outputs": [
    {
     "name": "stdout",
     "output_type": "stream",
     "text": [
      "              precision    recall  f1-score   support\n",
      "\n",
      "           0       1.00      1.00      1.00       336\n",
      "           1       1.00      0.99      0.99        94\n",
      "\n",
      "    accuracy                           1.00       430\n",
      "   macro avg       1.00      0.99      1.00       430\n",
      "weighted avg       1.00      1.00      1.00       430\n",
      "\n"
     ]
    }
   ],
   "source": [
    "evaluate_model(y_test, y_pred)"
   ]
  },
  {
   "cell_type": "markdown",
   "metadata": {},
   "source": [
    "As,we can see from the confusion matrix and report our model can almost estimate all mails in their classes in test set with almost full accuracy."
   ]
  },
  {
   "cell_type": "markdown",
   "metadata": {},
   "source": [
    "# ROC Curve"
   ]
  },
  {
   "cell_type": "code",
   "execution_count": 57,
   "metadata": {},
   "outputs": [],
   "source": [
    "y_proba = model.predict_proba(X_test)[:, 1]"
   ]
  },
  {
   "cell_type": "code",
   "execution_count": 58,
   "metadata": {},
   "outputs": [
    {
     "data": {
      "text/plain": [
       "array([6.36608877e-03, 8.77039117e-04, 9.96979269e-01, 5.03497132e-03,\n",
       "       3.05965343e-02, 9.67019673e-01, 3.03877822e-03, 9.95914259e-01,\n",
       "       1.13142994e-04, 9.60463722e-01, 3.01192291e-05, 5.17201578e-03,\n",
       "       1.93137813e-03, 9.77915301e-01, 3.32200111e-02, 2.17460434e-04,\n",
       "       2.21204750e-03, 2.65721143e-04, 1.99532145e-05, 9.04516825e-04,\n",
       "       2.13748210e-03, 4.92604032e-04, 8.71726585e-01, 2.22217128e-02,\n",
       "       9.94750042e-01, 6.97618241e-02, 2.81090326e-03, 5.76748846e-03,\n",
       "       1.49827614e-01, 3.73735005e-02, 1.22296653e-01, 9.13703318e-01,\n",
       "       9.96679265e-01, 5.14450082e-03, 9.96307710e-01, 3.54294177e-02,\n",
       "       2.25992886e-03, 1.47276551e-02, 5.84311321e-03, 4.02712465e-03,\n",
       "       4.96633734e-03, 9.92897964e-01, 1.39637055e-02, 9.52710899e-01,\n",
       "       9.86655894e-01, 5.67583896e-02, 7.97323832e-04, 5.99913320e-06,\n",
       "       3.25713759e-05, 9.08517614e-02, 3.63458259e-03, 9.85244032e-03,\n",
       "       1.31173183e-03, 4.95292361e-04, 9.28760996e-01, 9.87843641e-01,\n",
       "       1.16892370e-02, 9.11319374e-04, 3.56374100e-01, 1.06354130e-02,\n",
       "       9.74717282e-02, 1.33899838e-01, 6.13197470e-02, 1.35908709e-04,\n",
       "       6.18588537e-04, 7.70491365e-03, 1.08235235e-03, 9.60100110e-01,\n",
       "       6.13052279e-01, 3.53061893e-03, 9.87077829e-01, 5.44780393e-02,\n",
       "       8.40480498e-06, 2.73214705e-03, 5.48315319e-04, 9.68904047e-01,\n",
       "       4.00068443e-06, 7.66202569e-03, 2.38584983e-04, 9.79256987e-01,\n",
       "       7.51261946e-03, 9.88808900e-01, 1.33873018e-01, 7.34612897e-04,\n",
       "       8.17368437e-01, 3.27425200e-02, 9.62617463e-01, 2.40411393e-04,\n",
       "       1.13413292e-01, 5.72956220e-03, 3.05779365e-02, 8.93559909e-03,\n",
       "       2.00862887e-02, 3.70841071e-03, 2.08757052e-03, 4.14673355e-04,\n",
       "       3.21325321e-03, 1.77770167e-03, 9.42335174e-01, 9.26621654e-01,\n",
       "       8.09507938e-06, 9.92899422e-01, 9.81397241e-01, 9.90790484e-01,\n",
       "       7.08936487e-01, 5.89516555e-03, 4.52813354e-04, 4.52076617e-05,\n",
       "       9.72533588e-01, 3.80446935e-04, 2.98493633e-03, 2.15644395e-02,\n",
       "       7.43010114e-02, 1.82014681e-02, 2.69070462e-03, 5.15181890e-04,\n",
       "       4.07437471e-03, 7.12425252e-01, 1.80606465e-04, 3.57842718e-03,\n",
       "       4.23477965e-04, 5.59843803e-03, 7.04006211e-01, 2.55914672e-03,\n",
       "       7.06206510e-03, 7.35535749e-03, 4.49082317e-02, 3.92111759e-02,\n",
       "       9.97711112e-01, 6.10870793e-02, 9.96976686e-01, 1.60577897e-01,\n",
       "       9.72052305e-01, 9.42417431e-01, 7.11905239e-02, 4.50869217e-05,\n",
       "       5.44746259e-03, 3.84300543e-03, 4.32728108e-02, 6.64899974e-05,\n",
       "       2.45335041e-03, 1.49708045e-04, 7.42708315e-03, 2.68885416e-04,\n",
       "       4.15956222e-02, 2.69872674e-04, 5.35528760e-01, 3.63462161e-04,\n",
       "       1.48097945e-02, 3.99372239e-02, 1.23986518e-01, 5.14196832e-04,\n",
       "       3.35688054e-04, 5.85846535e-04, 8.39217419e-01, 1.12082626e-02,\n",
       "       9.71996980e-01, 1.34887802e-04, 6.68007792e-01, 1.53837864e-03,\n",
       "       1.57363274e-02, 9.38928989e-01, 6.44462511e-03, 7.98293520e-01,\n",
       "       7.53795797e-03, 1.21402673e-02, 9.13123615e-01, 5.88029924e-03,\n",
       "       7.66000650e-03, 3.10209308e-03, 1.48748327e-02, 8.52810302e-01,\n",
       "       5.39259577e-04, 3.67469155e-03, 1.47919205e-03, 1.26494543e-02,\n",
       "       2.91547534e-04, 1.39014201e-03, 1.25769039e-03, 1.10877735e-05,\n",
       "       4.68319261e-02, 9.54765688e-01, 2.55264891e-03, 7.58702906e-03,\n",
       "       9.95792870e-01, 6.51267397e-01, 9.42056787e-01, 5.74292392e-03,\n",
       "       3.71577928e-02, 2.37682066e-04, 3.39039439e-02, 1.01205226e-02,\n",
       "       5.65290995e-02, 2.48355947e-02, 9.61949633e-03, 5.60273889e-04,\n",
       "       5.78788163e-04, 8.25554804e-03, 3.87987997e-02, 9.97487671e-01,\n",
       "       5.79625325e-02, 1.69507922e-02, 9.97364321e-01, 7.25118505e-03,\n",
       "       9.22551543e-03, 6.16108462e-03, 4.24340088e-02, 9.47697236e-03,\n",
       "       3.55268832e-05, 1.31221800e-03, 2.79989681e-05, 3.97340194e-02,\n",
       "       3.73288862e-02, 3.82885265e-02, 4.68630443e-03, 8.67241423e-01,\n",
       "       1.11308606e-02, 3.01256453e-02, 2.15166812e-02, 1.35801666e-01,\n",
       "       9.94192022e-01, 9.93679779e-01, 4.18128695e-03, 1.31175311e-04,\n",
       "       1.40672318e-01, 5.23913707e-03, 1.40208694e-02, 1.60466683e-02,\n",
       "       3.87622494e-04, 6.61806597e-05, 2.71212181e-03, 7.29533417e-02,\n",
       "       6.03904521e-03, 7.05281916e-04, 2.44424970e-02, 5.98427770e-04,\n",
       "       1.19627406e-02, 3.06085237e-03, 9.54808345e-01, 1.20172652e-02,\n",
       "       1.45867581e-03, 9.69652835e-01, 5.73759121e-02, 7.20267003e-03,\n",
       "       3.77828686e-05, 9.86932193e-01, 6.55589511e-03, 1.55082121e-03,\n",
       "       6.55942142e-04, 1.10350783e-02, 3.38097015e-03, 9.06350055e-01,\n",
       "       1.12222363e-03, 9.31048592e-01, 6.41638038e-03, 2.33687181e-04,\n",
       "       1.50890226e-02, 6.66249631e-04, 9.92890952e-01, 1.16300537e-01,\n",
       "       9.64374273e-01, 1.74127906e-05, 9.88335109e-01, 6.53028246e-02,\n",
       "       3.77643485e-02, 5.23787945e-04, 9.91590677e-01, 1.29918546e-02,\n",
       "       2.56711939e-02, 9.96078721e-01, 5.72026524e-04, 4.31117535e-03,\n",
       "       9.96624569e-01, 2.53543097e-02, 6.83717342e-04, 9.90212361e-01,\n",
       "       1.24727581e-01, 6.14664585e-03, 1.90943811e-01, 2.00296369e-04,\n",
       "       3.84999526e-02, 9.97761824e-04, 1.50774104e-01, 9.97054076e-01,\n",
       "       1.10260921e-02, 9.92549201e-01, 2.65366477e-04, 1.54222020e-01,\n",
       "       9.92719860e-01, 3.98662870e-03, 1.58385947e-04, 1.49742835e-02,\n",
       "       1.52293174e-03, 3.41710800e-03, 3.71427650e-04, 8.77095630e-05,\n",
       "       6.93558303e-02, 8.20972513e-02, 9.86504744e-01, 9.53128846e-01,\n",
       "       1.04871477e-02, 8.77945023e-03, 5.45598771e-03, 2.21172954e-04,\n",
       "       9.46356474e-01, 3.65292784e-03, 1.02525530e-02, 7.71928793e-01,\n",
       "       9.81710444e-01, 1.13452225e-03, 1.44224898e-03, 3.46077711e-04,\n",
       "       1.35753612e-02, 2.40337363e-03, 3.64503276e-03, 7.22554806e-03,\n",
       "       3.48885184e-04, 9.58927939e-01, 4.31380434e-02, 4.14370101e-06,\n",
       "       4.73828962e-05, 9.88635271e-01, 1.07417348e-03, 9.92594558e-01,\n",
       "       9.95461694e-01, 5.46976563e-02, 2.85166767e-05, 1.05345478e-01,\n",
       "       7.60586521e-04, 1.15948491e-04, 1.27137051e-03, 9.47318248e-01,\n",
       "       3.25516109e-04, 3.37353158e-03, 5.59635402e-03, 3.27474326e-02,\n",
       "       1.20775980e-02, 1.27792126e-04, 2.60790472e-05, 1.66263582e-03,\n",
       "       9.90682289e-02, 2.24872000e-04, 2.26931794e-02, 5.52152645e-03,\n",
       "       1.94778510e-05, 7.79598175e-03, 5.21391223e-03, 9.93134629e-01,\n",
       "       6.30496282e-02, 2.28509309e-03, 4.94935799e-03, 9.88271057e-01,\n",
       "       4.33085012e-03, 8.64182729e-01, 1.06225702e-02, 9.63857837e-01,\n",
       "       9.32499858e-01, 3.05147268e-04, 7.17776639e-04, 4.01384877e-02,\n",
       "       6.59597150e-03, 5.68434316e-04, 9.60472332e-01, 2.15793469e-05,\n",
       "       3.68213361e-04, 1.38605334e-04, 3.88818052e-03, 4.96940024e-02,\n",
       "       1.42255260e-01, 1.90617243e-03, 3.98722023e-03, 3.02623496e-02,\n",
       "       2.43633630e-02, 9.91929174e-01, 3.69365760e-03, 1.00777409e-02,\n",
       "       9.40530810e-03, 4.28049425e-03, 2.25054995e-03, 2.65199542e-02,\n",
       "       4.58620696e-03, 2.25689656e-01, 3.85149262e-03, 2.09214349e-02,\n",
       "       1.64451628e-04, 6.98165588e-05, 2.56711939e-02, 3.91629971e-04,\n",
       "       8.63616222e-04, 1.36841924e-01, 3.98946940e-02, 2.58933442e-03,\n",
       "       3.03272927e-03, 1.26131558e-02, 4.53102884e-03, 7.71036539e-03,\n",
       "       1.22674054e-02, 1.31470259e-03, 7.29101476e-01, 2.24817188e-02,\n",
       "       1.06193123e-02, 8.35206649e-01, 9.52964426e-01, 9.87710080e-03,\n",
       "       6.64467224e-04, 3.40149900e-06, 2.14204692e-04, 9.95935181e-01,\n",
       "       7.26497474e-02, 4.75800560e-02, 9.96469961e-01, 8.41110962e-03,\n",
       "       7.62610172e-02, 5.72026524e-04, 3.77852783e-05, 5.51594162e-04,\n",
       "       2.12002053e-04, 1.79979768e-03, 4.65627831e-03, 1.05396468e-02,\n",
       "       5.60622300e-04, 9.94001291e-01, 3.27472066e-03, 1.77845542e-02,\n",
       "       8.68806520e-03, 9.92273351e-01, 1.07163575e-02, 1.53619399e-02,\n",
       "       9.60262920e-01, 3.36600264e-05])"
      ]
     },
     "execution_count": 58,
     "metadata": {},
     "output_type": "execute_result"
    }
   ],
   "source": [
    "y_proba"
   ]
  },
  {
   "cell_type": "code",
   "execution_count": 61,
   "metadata": {},
   "outputs": [],
   "source": [
    "pred_prob = list((y_pred))"
   ]
  },
  {
   "cell_type": "code",
   "execution_count": 64,
   "metadata": {},
   "outputs": [
    {
     "data": {
      "image/png": "[encoded data removed]",
      "text/plain": [
       "<Figure size 800x600 with 1 Axes>"
      ]
     },
     "metadata": {},
     "output_type": "display_data"
    }
   ],
   "source": [
    "# Calculate ROC curve and AUC score\n",
    "fpr, tpr, thresholds = roc_curve(y_test, pred_prob)\n",
    "roc_auc = roc_auc_score(y_test, pred_prob)\n",
    "\n",
    "# Plot ROC curve\n",
    "plt.figure(figsize=(8, 6))\n",
    "plt.plot(fpr, tpr, label=f'AUC = {roc_auc:.2f}')\n",
    "plt.plot([0, 1], [0, 1], 'k--')\n",
    "plt.xlim([0.0, 1.0])\n",
    "plt.ylim([0.0, 1.05])\n",
    "plt.xlabel('False Positive Rate')\n",
    "plt.ylabel('True Positive Rate')\n",
    "plt.title('Receiver Operating Characteristic (ROC)')\n",
    "plt.legend(loc='lower right')\n",
    "plt.show()"
   ]
  },
  {
   "cell_type": "markdown",
   "metadata": {},
   "source": [
    "From the graph we can see area under the curve is 99%. Hence our model works very well"
   ]
  }
 ],
 "metadata": {
  "kernelspec": {
   "display_name": "Python 3",
   "language": "python",
   "name": "python3"
  },
  "language_info": {
   "codemirror_mode": {
    "name": "ipython",
    "version": 3
   },
   "file_extension": ".py",
   "mimetype": "text/x-python",
   "name": "python",
   "nbconvert_exporter": "python",
   "pygments_lexer": "ipython3",
   "version": "3.10.6"
  }
 },
 "nbformat": 4,
 "nbformat_minor": 2
}
